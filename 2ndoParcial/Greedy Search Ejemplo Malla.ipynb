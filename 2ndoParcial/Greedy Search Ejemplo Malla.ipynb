{
 "cells": [
  {
   "cell_type": "code",
   "execution_count": 22,
   "id": "c48e0f2b-69fc-49cf-bc4e-3f622c16cab0",
   "metadata": {},
   "outputs": [],
   "source": [
    "# Importamos librerías\n",
    "from queue import PriorityQueue\n",
    "import random"
   ]
  },
  {
   "cell_type": "code",
   "execution_count": 23,
   "id": "6dd82308-9dc7-4a19-ac32-b310c6c9579d",
   "metadata": {},
   "outputs": [],
   "source": [
    "# Definimos la malla\n",
    "grid = [\n",
    "    'A','B','C','D','E',\n",
    "    \n",
    "    'F','G','H','I','J',\n",
    "    'K','L','M','N','Ñ',\n",
    "    'O','P','Q','R','S',\n",
    "    'T','U','V','W','X'\n",
    "]"
   ]
  },
  {
   "cell_type": "code",
   "execution_count": 35,
   "id": "d4d190ce-205d-41e3-b042-4bb2a549deb9",
   "metadata": {},
   "outputs": [],
   "source": [
    "# Definimos la posición de cada coordenada\n",
    "locations = {\n",
    "    'A': (0, 0), 'B': (0, 1), 'C': (0, 2), 'D': (0, 3), 'E': (0, 4),\n",
    "    'F': (1, 0), 'G': (1, 1), 'H': (1, 2), 'I': (1, 3), 'J': (1, 4),\n",
    "    'K': (2, 0), 'L': (2, 1), 'M': (2, 2), 'N': (2, 3), 'Ñ': (2, 4),\n",
    "    'O': (3, 0), 'P': (3, 1), 'Q': (3, 2), 'R': (3, 3), 'S': (3, 4),\n",
    "    'T': (4, 0), 'U': (4, 1), 'V': (4, 2), 'W': (4, 3), 'X': (4, 4)\n",
    "    \n",
    "}"
   ]
  },
  {
   "cell_type": "code",
   "execution_count": 40,
   "id": "2a925d94",
   "metadata": {},
   "outputs": [
    {
     "name": "stdout",
     "output_type": "stream",
     "text": [
      "['V', 'Q', 'E', 'S', 'W', 'N']\n"
     ]
    }
   ],
   "source": [
    "# user inputs for start and end\n",
    "start = input(\"Ingrese la letra de inicio: \").upper()\n",
    "end = input(\"Ingrese la letra de fin: \").upper()\n",
    "\n",
    "# exclude 6 random locations from the grid, but not the start and end and print a square grid where - is the removed location\n",
    "excluded = random.sample([i for i in grid if i not in [start, end]], 6)\n"
   ]
  },
  {
   "cell_type": "code",
   "execution_count": 41,
   "id": "dca5f7d3-c6b7-4fee-b0cd-c3e6f4b8488b",
   "metadata": {},
   "outputs": [],
   "source": [
    "# Definimos la función heurística \"h(s)\" que obtiene la distancia de Manhattan\n",
    "def manhattan_distance(start, goal):\n",
    "    x1, y1 = locations[start]\n",
    "    x2, y2 = locations[goal]\n",
    "    return abs(x1 - x2) + abs(y1 - y2)"
   ]
  },
  {
   "cell_type": "code",
   "execution_count": 42,
   "id": "40db253a-5eed-47ce-b4f1-ca5dfcdfd494",
   "metadata": {},
   "outputs": [],
   "source": [
    "# Obtenemos los vecinos para cada nodo\n",
    "def get_neighbors(node):\n",
    "    \"\"\"\n",
    "    Obtiene los vecinos de un nodo en la malla,\n",
    "    excluyendo los nodos en la lista\n",
    "    \n",
    "    \"\"\"\n",
    "    x, y = locations[node]\n",
    "    neighbors = []\n",
    "    directions = [(-1, 0), (1, 0), (0, -1), (0, 1)]  # Arriba, Abajo, Izq, Der\n",
    "    for dx, dy in directions:\n",
    "        nx, ny = x + dx, y + dy\n",
    "        if 0 <= nx < 5 and 0 <= ny < 5: # Verifica que el nodo esté en la malla, es 5x5 porque es el tamaño de la malla\n",
    "            # Encuentra el nodo en la malla basándose en su posición, si no está excluido\n",
    "            for key, value in locations.items():\n",
    "                if value == (nx, ny) and key not in excluded:\n",
    "                    neighbors.append(key)\n",
    "    return neighbors"
   ]
  },
  {
   "cell_type": "code",
   "execution_count": 6,
   "id": "1d500d27-473b-4fd2-80e1-149a83a5f096",
   "metadata": {},
   "outputs": [],
   "source": [
    "# Greedy search\n",
    "def greedy_search(start, goal):\n",
    "    # Creamos la fila de prioridad\n",
    "    frontier = PriorityQueue()\n",
    "    frontier.put((0, start))\n",
    "    came_from = {start: None}\n",
    "\n",
    "    # Mientras la fila de prioridad NO está vacía\n",
    "    while not frontier.empty():\n",
    "        # Obtenemos la casilla con el menor costo heurístico\n",
    "        current = frontier.get()[1]\n",
    "\n",
    "        print(\"---------------------------\")\n",
    "        print(\"Nodo actual:\", current)\n",
    "\n",
    "        # Si la casilla actual es la meta, se acaba el algoritmo\n",
    "        if current == goal:\n",
    "            break\n",
    "\n",
    "        # Checamos TODOS los vecinos en el nodo actual\n",
    "        for next_node in get_neighbors(current):\n",
    "            if next_node not in came_from and next_node != '':\n",
    "                priority = manhattan_distance(next_node, goal)\n",
    "                frontier.put((priority, next_node))\n",
    "                came_from[next_node] = current\n",
    "\n",
    "    # Reconstruimos el path desde el nodo actual hasta la meta\n",
    "    path = []\n",
    "    while current != start:\n",
    "        path.append(current)\n",
    "        current = came_from[current]\n",
    "    path.append(start)\n",
    "    path.reverse()\n",
    "    return path"
   ]
  },
  {
   "cell_type": "code",
   "execution_count": 34,
   "id": "7a245231-1ddf-49fb-aaa9-eb98d829634b",
   "metadata": {},
   "outputs": [
    {
     "name": "stdout",
     "output_type": "stream",
     "text": [
      "---------------------------\n",
      "Nodo actual: A\n",
      "El camino es: ['A']\n"
     ]
    }
   ],
   "source": [
    "\n",
    "# Ejecutamos el algoritmo\n",
    "path = greedy_search(start, end)\n",
    "print(\"El camino es:\", path)\n"
   ]
  },
  {
   "cell_type": "code",
   "execution_count": null,
   "id": "c4a1278f-80e6-44e5-b3cb-b1d88ccf39a4",
   "metadata": {},
   "outputs": [],
   "source": []
  },
  {
   "cell_type": "code",
   "execution_count": null,
   "id": "36cedb55-7b5f-4896-ba48-3447b5b1210e",
   "metadata": {},
   "outputs": [],
   "source": []
  }
 ],
 "metadata": {
  "kernelspec": {
   "display_name": "Python 3 (ipykernel)",
   "language": "python",
   "name": "python3"
  },
  "language_info": {
   "codemirror_mode": {
    "name": "ipython",
    "version": 3
   },
   "file_extension": ".py",
   "mimetype": "text/x-python",
   "name": "python",
   "nbconvert_exporter": "python",
   "pygments_lexer": "ipython3",
   "version": "3.11.7"
  }
 },
 "nbformat": 4,
 "nbformat_minor": 5
}
