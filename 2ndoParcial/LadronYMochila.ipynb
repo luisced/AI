{
 "cells": [
  {
   "cell_type": "code",
   "execution_count": 1,
   "metadata": {},
   "outputs": [],
   "source": [
    "# Declaración de librerías:\n",
    "import networkx as nx\n",
    "import matplotlib.pyplot as plt\n",
    "import heapq"
   ]
  },
  {
   "cell_type": "code",
   "execution_count": 2,
   "metadata": {},
   "outputs": [],
   "source": [
    "items = [\n",
    "    (\"Oro\", 1, 60),\n",
    "    (\"Rubíes\", 2, 100), \n",
    "    (\"Zafiro\", 3, 120),\n",
    "    (\"Esmeralda\", 4, 150)\n",
    "]"
   ]
  },
  {
   "cell_type": "code",
   "execution_count": 4,
   "metadata": {},
   "outputs": [],
   "source": [
    "# Calculamos el ratio valor/peso para cada elemento y creamos una nueva tupla con el ratio incluido\n",
    "items_con_ratio = [(item[0], item[1], item[2], item[2] / item[1]) for item in items]\n",
    "\n",
    "# Ordenamos los elementos por su ratio valor/peso de mayor a menor\n",
    "items_con_ratio.sort(key=lambda x: x[3], reverse=True)\n",
    "\n",
    "# La capacidad de la mochila\n",
    "capacidad_mochila = 8\n",
    "\n"
   ]
  },
  {
   "cell_type": "code",
   "execution_count": 6,
   "metadata": {},
   "outputs": [],
   "source": [
    "def llenar_mochila_greedy(items, capacidad):\n",
    "    total_valor = 0\n",
    "    total_peso = 0\n",
    "    mochila = []\n",
    "\n",
    "    for item in items:\n",
    "        if total_peso + item[1] <= capacidad:\n",
    "            mochila.append(item)\n",
    "            total_peso += item[1]\n",
    "            total_valor += item[2]\n",
    "        else:\n",
    "            capacidad_restante = capacidad - total_peso\n",
    "            valor_fraccion = item[2] * (capacidad_restante / item[1])\n",
    "            mochila.append((item[0], capacidad_restante, valor_fraccion))\n",
    "            total_peso += capacidad_restante\n",
    "            total_valor += valor_fraccion\n",
    "            break  #\n",
    "\n",
    "    return mochila, total_valor"
   ]
  },
  {
   "cell_type": "code",
   "execution_count": 7,
   "metadata": {},
   "outputs": [
    {
     "name": "stdout",
     "output_type": "stream",
     "text": [
      "Mochila llena con valor:  355.0\n",
      "('Oro', 1, 60, 60.0)\n",
      "('Rubíes', 2, 100, 50.0)\n",
      "('Zafiro', 3, 120, 40.0)\n",
      "('Esmeralda', 2, 75.0)\n"
     ]
    }
   ],
   "source": [
    "\n",
    "mochila, valor = llenar_mochila_greedy(items_con_ratio, capacidad_mochila)\n",
    "print(\"Mochila llena con valor: \", valor)\n",
    "for item in mochila:\n",
    "    print(item)\n",
    "\n"
   ]
  }
 ],
 "metadata": {
  "kernelspec": {
   "display_name": "Python 3",
   "language": "python",
   "name": "python3"
  },
  "language_info": {
   "codemirror_mode": {
    "name": "ipython",
    "version": 3
   },
   "file_extension": ".py",
   "mimetype": "text/x-python",
   "name": "python",
   "nbconvert_exporter": "python",
   "pygments_lexer": "ipython3",
   "version": "3.11.7"
  }
 },
 "nbformat": 4,
 "nbformat_minor": 2
}
