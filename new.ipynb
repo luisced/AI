{
 "cells": [
  {
   "cell_type": "code",
   "execution_count": 3,
   "metadata": {},
   "outputs": [
    {
     "name": "stdout",
     "output_type": "stream",
     "text": [
      "the value of the expression is False\n"
     ]
    }
   ],
   "source": [
    "proposition_value = input(\"Enter a proposition: \")\n",
    "\n",
    "# cast the input to a boolean\n",
    "p_bool = True if proposition_value == \"t\" else False\n",
    "\n",
    "# Get the value of the expression\n",
    "val = p_bool and not p_bool\n",
    "print(f\"the value of the expression is {val}\")"
   ]
  },
  {
   "cell_type": "code",
   "execution_count": 29,
   "metadata": {},
   "outputs": [
    {
     "name": "stdout",
     "output_type": "stream",
     "text": [
      "the value of the expression is False\n"
     ]
    }
   ],
   "source": [
    "p1, p2 = [input(f\"Enter the value of proposition t/f{i}: \") for i in range(1, 3)]\n",
    "\n",
    "# cast the input to a boolean\n",
    "p1 = True if p1 == \"t\" else False\n",
    "p2 = True if p2 == \"t\" else False\n",
    "\n",
    "val1 = p1 or not p2\n",
    "ans = True if (val1 and p2) else False\n",
    "\n",
    "print(f\"the value of the expression is {ans}\")\n"
   ]
  },
  {
   "cell_type": "code",
   "execution_count": null,
   "metadata": {},
   "outputs": [],
   "source": [
    "p1, p2, p3 = [input(f\"Enter the value of proposition t/f{i}: \") for i in range(1, 4)]\n",
    "\n",
    "# cast the input to a boolean\n",
    "p1 = True if p1 == \"t\" else False\n",
    "p2 = True if p2 == \"t\" else False\n",
    "p3 = True if p3 == \"t\" else False\n",
    "\n",
    "# expression "
   ]
  },
  {
   "cell_type": "code",
   "execution_count": null,
   "metadata": {},
   "outputs": [],
   "source": []
  }
 ],
 "metadata": {
  "kernelspec": {
   "display_name": "ai_venv",
   "language": "python",
   "name": "python3"
  },
  "language_info": {
   "codemirror_mode": {
    "name": "ipython",
    "version": 3
   },
   "file_extension": ".py",
   "mimetype": "text/x-python",
   "name": "python",
   "nbconvert_exporter": "python",
   "pygments_lexer": "ipython3",
   "version": "3.11.7"
  }
 },
 "nbformat": 4,
 "nbformat_minor": 2
}
