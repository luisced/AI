{
 "cells": [
  {
   "cell_type": "markdown",
   "metadata": {},
   "source": [
    "9) f(p,q,r): (p -> q) v (not q -> r)"
   ]
  },
  {
   "cell_type": "code",
   "execution_count": 5,
   "metadata": {},
   "outputs": [
    {
     "name": "stdout",
     "output_type": "stream",
     "text": [
      "Result: True\n"
     ]
    }
   ],
   "source": [
    "\n",
    "\n",
    "p, q, r = [input(f\"Enter the value of proposition t/f{i}: \") for i in range(1, 4)]\n",
    "\n",
    "# cast the input to a boolean\n",
    "p = True if p == \"t\" else False\n",
    "q = True if q == \"t\" else False\n",
    "r = True if r == \"t\" else False\n",
    "\n",
    "expr = (not p or q) or (not q or r)\n",
    "print(f\"Result: {f'True' if expr else 'False'}\")\n",
    "\n"
   ]
  },
  {
   "cell_type": "markdown",
   "metadata": {},
   "source": [
    "### 10) f(p,q,r): (p -> q) and (not q -> r)"
   ]
  },
  {
   "cell_type": "code",
   "execution_count": 7,
   "metadata": {},
   "outputs": [],
   "source": [
    "#10) f(p,q,r): (p -> q) and (not q -> r)\n",
    "p, q, r = [input(f\"Enter the value of proposition t/f{i}: \") for i in range(1, 4)]\n",
    "\n",
    "# cast the input to a boolean\n",
    "p = True if p == \"t\" else False\n",
    "q = True if q == \"t\" else False\n",
    "r = True if r == \"t\" else False\n",
    "\n",
    "expr = (not p or q) and (not q or r)\n",
    "print(f\"Result: {f'True' if expr else 'False'}\")"
   ]
  }
 ],
 "metadata": {
  "kernelspec": {
   "display_name": "Python 3",
   "language": "python",
   "name": "python3"
  },
  "language_info": {
   "codemirror_mode": {
    "name": "ipython",
    "version": 3
   },
   "file_extension": ".py",
   "mimetype": "text/x-python",
   "name": "python",
   "nbconvert_exporter": "python",
   "pygments_lexer": "ipython3",
   "version": "3.11.7"
  }
 },
 "nbformat": 4,
 "nbformat_minor": 2
}
